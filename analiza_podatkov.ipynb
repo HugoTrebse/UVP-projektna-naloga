{
 "cells": [
  {
   "cell_type": "code",
   "execution_count": null,
   "id": "ec790a0b",
   "metadata": {},
   "outputs": [],
   "source": [
    "import pandas as pd\n",
    "import os\n",
    "from statistics import mean\n",
    "import matplotlib.pyplot as plot\n",
    "import funkcije\n",
    "\n",
    "starsevska_pot_plitka = os.getcwd()\n",
    "starsevska_pot_globoka = os.path.join(starsevska_pot_plitka, 'podatkovna_baza')"
   ]
  },
  {
   "cell_type": "markdown",
   "id": "fb5ab524",
   "metadata": {},
   "source": [
    "Analizirali bomo naslednje:\n",
    "- pri kateri starosti šahisti dosežejo svoj največji ELO (ter ali je ta podatek odvisen od tega kako dober je šahist)\n",
    "- vpliv nacionalnosti to kdaj šahist doseže svoj največji ELO\n",
    "- korelacija med ratingom (število točk ELO) in rankom (katero mesto zaseda šahist na lestvici najboljših 100)"
   ]
  },
  {
   "cell_type": "markdown",
   "id": "2556ec9f",
   "metadata": {},
   "source": [
    "Zanima nas pri kateri starosti šahisti dosežejo svoj vrhunec. Postopek, da pridobimo to informacijo bo naslednji:\n",
    "1. Ustvarili bomo kopijo seznama sahisti ter v to kopijo shranili podatke o tem pri kateri starosti šahist doseže svoj največji ELO rating; podobno bomo naredili tudi z podatkom pri kateri starosti šahist doseže svoj največji indeks na lestvici najboljših 100 šahistov. Ta podatka nista nujno enakovredna, zaradi rating inflationa ([relevanten wikipedia snippet](https://en.wikipedia.org/wiki/Elo_rating_system#Mathematical_details)).\n",
    "2. Statistično analizirali to - verjetno z preprosto aritmetično sredino.\n",
    "3. Grafični prikaz podatkov."
   ]
  },
  {
   "cell_type": "code",
   "execution_count": null,
   "id": "779b1309",
   "metadata": {},
   "outputs": [],
   "source": [
    "#Ker bomo analizirali starost pri kateri igralci dosežejo maksimalni rating v odvisnosti od države, moramo pobrati tudi podatke o slednjem.\n",
    "#Pojavi se vprašanje kaj storiti, če šahist v svoji karieri igra za več kot eno državo. V okviru tega projekta bomo vse dosežke tega šahista upoštevali pod državo za katero je igral najprej.\n",
    "\n",
    "stevec_drzav = {}\n",
    "sahisti_elo = []\n",
    "\n",
    "for filename in os.listdir(starsevska_pot_globoka):\n",
    "    ime_sahista = filename.replace('_', ' ')\n",
    "    trenutni_maksimum = [('01-2000', 0)]\n",
    "    datotecna_pot = os.path.join(starsevska_pot_globoka, filename)\n",
    "    podatki = pd.read_csv(datotecna_pot, index_col = 'datum', sep = ',')\n",
    "    for datum, vrstica in podatki.iterrows():\n",
    "        rating = int(vrstica['rating'])\n",
    "        if rating > trenutni_maksimum[0][1]:\n",
    "            trenutni_maksimum = [(str(datum), rating)]\n",
    "        elif rating == trenutni_maksimum[0][1]:\n",
    "            trenutni_maksimum.append((str(datum), rating))\n",
    "    drzava = vrstica['drzava']\n",
    "    if drzava in stevec_drzav.keys():\n",
    "        stevec_drzav[drzava] += 1\n",
    "    else:\n",
    "        stevec_drzav[drzava] = 1\n",
    "    sahisti_elo.append({'Ime': ime_sahista, 'Maksimumi' : trenutni_maksimum, 'Drzava' : vrstica['drzava']})\n",
    "#sahisti_elo je seznam slovarjev, vsebujoc informacje o imenu, najvišjem ratnigu (oz pri kateri starosti ga je dosegel) ter državljanstvu \n",
    "\n",
    "print(sahisti_elo)\n",
    "print(stevec_drzav)\n",
    "\n",
    "#Sedaj bomo v seznam slovarjev sahisti_elo za vsakega šahista dodali še starost, pri kateri je dosegel maksimalni rating, če je teh več pa več starosti.\n",
    "sahisti_csv_format = pd.read_csv(os.path.join(starsevska_pot_plitka, 'sahisti'), sep=',')\n",
    "\n",
    "for sahist in sahisti_elo:\n",
    "    ime_sahista = sahist['Ime']\n",
    "    maksimumi = sahist['Maksimumi']\n",
    "    sahist['Najvišji rating'] = maksimumi[0][1]\n",
    "    sahist['Starosti ob najvišjih ratingih'] = []\n",
    "    #Opomnik: Maksimumi je seznam nizov dveh podatkov, prvi je datum, drugi pa maksimalni elo šahista\n",
    "    for indeks, vrstica in sahisti_csv_format.iterrows():\n",
    "        if vrstica['Ime'] == ime_sahista:\n",
    "            sahist['Leto rojstva'] = vrstica['Leto rojstva']\n",
    "    for maksimum in maksimumi:\n",
    "        sahist['Starosti ob najvišjih ratingih'].append(int(maksimum[0][3:]) - sahist['Leto rojstva'])\n",
    "    sahist['Povprečna starost pri najvišjem ratingu'] = round(mean(sahist['Starosti ob najvišjih ratingih']), 1)\n",
    "    sahist['Najmlajša starost pri najvišjem ratingu'] = min(sahist['Starosti ob najvišjih ratingih'])\n",
    "    sahist['Največja starost pri najvišjem ratingu'] = max(sahist['Starosti ob najvišjih ratingih'])\n",
    "sahisti_elo_pandas = pd.DataFrame(sahisti_elo, columns=['Ime', 'Leto rojstva','Drzava', 'Najvišji rating', 'Povprečna starost pri najvišjem ratingu', 'Najmlajša starost pri najvišjem ratingu', 'Največja starost pri najvišjem ratingu'])\n",
    "\n",
    "sahisti_elo_pandas.head(250)"
   ]
  },
  {
   "cell_type": "markdown",
   "id": "afba3886",
   "metadata": {},
   "source": [
    "Uspešno smo sestavili razpredelnico, ki vsebuje imena vseh šahistov, leta rojstva, njihove najvišje ratinge ter povprečno starost pri najvišjem ratingu.\n",
    "Zanima nas, pri kateri starosti šahisti v splošnem dosežejo svojo najvišji rating.\n",
    "\n",
    "Da bi to analizirali uspešno moramo upoštevati še dejstvo, da nekateri igralci še niso dosegli svojega najvišjega ratinga; oz. ga trenutno dosegajo. Prvega faktorja žal ne moramo odpraviti, saj ne znamo predvideti, ali bo posameznik v prihodnosti postal boljši, slabši ali pa če bo celo nehal igrati šah na profesionalnem nivoju. Drugi faktor pa bomo nagovorili tako, da iz statistične analize eliminiramo vse igralce, ki so svoj najvišji rating dosegli v zadnjih 6 mesecih."
   ]
  },
  {
   "cell_type": "code",
   "execution_count": null,
   "id": "04d10e1b",
   "metadata": {},
   "outputs": [],
   "source": [
    "shp = sahisti_elo_pandas\n",
    "shp = shp[shp['Povprečna starost pri najvišjem ratingu'] - (2024 - shp['Leto rojstva']) <= 0.5]\n",
    "\n",
    "for sahist in sahisti_elo:\n",
    "    if sahist['Najvišji rating'] > 2850:\n",
    "        print(sahist['Ime'], sahist['Maksimumi'])\n",
    "\n",
    "print(f'Povprečna starost pri kateri šahist doseže svoj najvišji ELO rating je približno {round(mean(shp['Povprečna starost pri najvišjem ratingu']), 2)}. \\nBralcu ob tej ugotovitvi puščam nekaj trenutkov za kontemplacijo o svoji smrtnosti ter življenskih dosežkih.')\n",
    "#Bralcu ob tej ugotovitvi puščam nekaj trenutkov za kontemplacijo o svoji smrtnosti ter življenskih dosežkih.\n",
    "\n",
    "plot.figure(figsize=(10,6))\n",
    "plot.scatter(shp['Najvišji rating'], shp['Največja starost pri najvišjem ratingu'], label='Največja starost pri najvišjem ratingu v odvisnosti od ratinga', color='red', marker='.')\n",
    "plot.scatter(shp['Najvišji rating'], shp['Najmlajša starost pri najvišjem ratingu'], label='Najmlajša starost pri najvišjem ratingu v odvisnosti od ratinga', color='blue', marker='.')\n",
    "plot.scatter(shp['Najvišji rating'], shp['Povprečna starost pri najvišjem ratingu'], label='Povprečna starost pri najvišjem ratingu v odvisnosti od ratinga', color='purple', marker='.')\n",
    "\n",
    "\n",
    "\n",
    "plot.title('Starost pri najvišjem ratingu v odvisnosti od najvišjega ratinga', fontsize = 14)\n",
    "plot.ylabel('Najvišji rating', fontsize=12)\n",
    "plot.xlabel('Starost', fontsize=12)\n",
    "\n",
    "plot.show()"
   ]
  },
  {
   "cell_type": "markdown",
   "id": "8eadcf0d",
   "metadata": {},
   "source": [
    "Ugotovili smo, da je med najboljšimi 100 šahisti na svetu povprečna starost, pri kateri dosežejo svoj največji ELO rating (kar verjetno sovpada z njihovo najvišjo sposobnostjo v igri šaha), priblžno 31.24. \n",
    "\n",
    "Diagram prikazuje starost pri kateri igralci dosežejo svoj najvišji rating. Vijolične točke predstavljajo povprečno starost posameznika, ko je dosegel svoj najvišji rating, modra in rdeča pa zaporedoma najnižjo in najvišjo starost ko je dosegel svoj najvišji rating.\n",
    "\n",
    "Žal ne opazimo nobenega trenda v podatkih, je pa vredno omembe, da skoraj vsi igralci dosežejo svoj najvišji rating le enkrat v življenju, ter se na isti nivo ne povzpnejo ponovno. Izjema je Magnus Carlsen, ki je svoj najvišji rating 2882 ELO dosegel 05-2014 ter 08-2019. Da je Magnus Carlsen izjema, pa ni prav veliko presenečenje."
   ]
  },
  {
   "cell_type": "markdown",
   "id": "90296712",
   "metadata": {},
   "source": [
    "Za glavno jed bomo analizirali trende v ELO ratingu top 5 igralcev za obdobje zadnjih 24 let. Zakaj ravno top 5? Eden izmed razlogov je, da želimo te trende grafično prikazati, kar bi bilo težko za več kot 400 šahistov, za katere imamo podatke. \n",
    "\n",
    "To pomeni, da bomo za vsakega igralca, ki je v zadnjih 24 letih vstopil v top 5 igralcev, zabeležili ELO rating za vsak mesec, za katerega imamo podatke(sepravi za vsak mesec, ko je bil med najboljšimi 100 šahisti na svetu). Podatke bomo grafično predstavili kot zlomljenko."
   ]
  },
  {
   "cell_type": "code",
   "execution_count": 25,
   "id": "eec6be1d",
   "metadata": {},
   "outputs": [
    {
     "ename": "KeyError",
     "evalue": "'rank'",
     "output_type": "error",
     "traceback": [
      "\u001b[1;31m---------------------------------------------------------------------------\u001b[0m",
      "\u001b[1;31mKeyError\u001b[0m                                  Traceback (most recent call last)",
      "File \u001b[1;32mc:\\Users\\hugot\\AppData\\Local\\Programs\\Python\\Python312\\Lib\\site-packages\\pandas\\core\\indexes\\base.py:3805\u001b[0m, in \u001b[0;36mIndex.get_loc\u001b[1;34m(self, key)\u001b[0m\n\u001b[0;32m   3804\u001b[0m \u001b[38;5;28;01mtry\u001b[39;00m:\n\u001b[1;32m-> 3805\u001b[0m     \u001b[38;5;28;01mreturn\u001b[39;00m \u001b[38;5;28;43mself\u001b[39;49m\u001b[38;5;241;43m.\u001b[39;49m\u001b[43m_engine\u001b[49m\u001b[38;5;241;43m.\u001b[39;49m\u001b[43mget_loc\u001b[49m\u001b[43m(\u001b[49m\u001b[43mcasted_key\u001b[49m\u001b[43m)\u001b[49m\n\u001b[0;32m   3806\u001b[0m \u001b[38;5;28;01mexcept\u001b[39;00m \u001b[38;5;167;01mKeyError\u001b[39;00m \u001b[38;5;28;01mas\u001b[39;00m err:\n",
      "File \u001b[1;32mindex.pyx:167\u001b[0m, in \u001b[0;36mpandas._libs.index.IndexEngine.get_loc\u001b[1;34m()\u001b[0m\n",
      "File \u001b[1;32mindex.pyx:196\u001b[0m, in \u001b[0;36mpandas._libs.index.IndexEngine.get_loc\u001b[1;34m()\u001b[0m\n",
      "File \u001b[1;32mpandas\\\\_libs\\\\hashtable_class_helper.pxi:7081\u001b[0m, in \u001b[0;36mpandas._libs.hashtable.PyObjectHashTable.get_item\u001b[1;34m()\u001b[0m\n",
      "File \u001b[1;32mpandas\\\\_libs\\\\hashtable_class_helper.pxi:7089\u001b[0m, in \u001b[0;36mpandas._libs.hashtable.PyObjectHashTable.get_item\u001b[1;34m()\u001b[0m\n",
      "\u001b[1;31mKeyError\u001b[0m: 'rank'",
      "\nThe above exception was the direct cause of the following exception:\n",
      "\u001b[1;31mKeyError\u001b[0m                                  Traceback (most recent call last)",
      "Cell \u001b[1;32mIn[25], line 41\u001b[0m\n\u001b[0;32m     29\u001b[0m \u001b[38;5;66;03m#Vidimo, da je v zadnjih 24 letih 30 različnih šahistov zavzelo mesta med najboljšimi petimi.\u001b[39;00m\n\u001b[0;32m     30\u001b[0m \n\u001b[0;32m     31\u001b[0m \u001b[38;5;66;03m#Narišimo sedaj še diagram\u001b[39;00m\n\u001b[1;32m   (...)\u001b[0m\n\u001b[0;32m     36\u001b[0m \n\u001b[0;32m     37\u001b[0m \u001b[38;5;66;03m#Sedaj podatke grafično predstavimo\u001b[39;00m\n\u001b[0;32m     39\u001b[0m plot\u001b[38;5;241m.\u001b[39mfigure(figsize\u001b[38;5;241m=\u001b[39m(\u001b[38;5;241m10\u001b[39m,\u001b[38;5;241m6\u001b[39m))\n\u001b[1;32m---> 41\u001b[0m \u001b[38;5;28;01mfor\u001b[39;00m kljucni_nabor, podatki \u001b[38;5;129;01min\u001b[39;00m \u001b[43mpodatki_top_nekaj\u001b[49m\u001b[43m(\u001b[49m\u001b[38;5;241;43m5\u001b[39;49m\u001b[43m)\u001b[49m\u001b[38;5;241m.\u001b[39mitems():\n\u001b[0;32m     42\u001b[0m     \u001b[38;5;66;03m#Seznam podatkov o datumih nadomestimo z seznamom podatkov starosti posameznega sahista\u001b[39;00m\n\u001b[0;32m     43\u001b[0m     podatki_starost \u001b[38;5;241m=\u001b[39m [funkcije\u001b[38;5;241m.\u001b[39mdatum_v_float(datum) \u001b[38;5;241m-\u001b[39m kljucni_nabor[\u001b[38;5;241m1\u001b[39m] \u001b[38;5;28;01mfor\u001b[39;00m datum \u001b[38;5;129;01min\u001b[39;00m podatki[\u001b[38;5;124m'\u001b[39m\u001b[38;5;124mdatum\u001b[39m\u001b[38;5;124m'\u001b[39m]]\n\u001b[0;32m     44\u001b[0m     \u001b[38;5;28mprint\u001b[39m(podatki_starost)\n",
      "Cell \u001b[1;32mIn[25], line 24\u001b[0m, in \u001b[0;36mpodatki_top_nekaj\u001b[1;34m(k)\u001b[0m\n\u001b[0;32m     22\u001b[0m         podatki \u001b[38;5;241m=\u001b[39m pd\u001b[38;5;241m.\u001b[39mread_csv(os\u001b[38;5;241m.\u001b[39mpath\u001b[38;5;241m.\u001b[39mjoin(starsevska_pot_globoka, ime\u001b[38;5;241m.\u001b[39mreplace(\u001b[38;5;124m'\u001b[39m\u001b[38;5;124m \u001b[39m\u001b[38;5;124m'\u001b[39m, \u001b[38;5;124m'\u001b[39m\u001b[38;5;124m_\u001b[39m\u001b[38;5;124m'\u001b[39m)))\n\u001b[0;32m     23\u001b[0m         \u001b[38;5;28;01mfor\u001b[39;00m indeks, vrstica2 \u001b[38;5;129;01min\u001b[39;00m podatki\u001b[38;5;241m.\u001b[39miterrows():\n\u001b[1;32m---> 24\u001b[0m             \u001b[38;5;28;01mif\u001b[39;00m \u001b[43mvrstica2\u001b[49m\u001b[43m[\u001b[49m\u001b[38;5;124;43m'\u001b[39;49m\u001b[38;5;124;43mrank\u001b[39;49m\u001b[38;5;124;43m'\u001b[39;49m\u001b[43m]\u001b[49m \u001b[38;5;241m<\u001b[39m\u001b[38;5;241m=\u001b[39m k:\n\u001b[0;32m     25\u001b[0m                 sahisti_v_top_nekaj\u001b[38;5;241m.\u001b[39madd((ime, \u001b[38;5;28mint\u001b[39m(vrstica1[\u001b[38;5;124m'\u001b[39m\u001b[38;5;124mLeto rojstva\u001b[39m\u001b[38;5;124m'\u001b[39m])))\n\u001b[0;32m     26\u001b[0m \u001b[38;5;28;01mreturn\u001b[39;00m sahisti_v_top_nekaj\n",
      "File \u001b[1;32mc:\\Users\\hugot\\AppData\\Local\\Programs\\Python\\Python312\\Lib\\site-packages\\pandas\\core\\series.py:1121\u001b[0m, in \u001b[0;36mSeries.__getitem__\u001b[1;34m(self, key)\u001b[0m\n\u001b[0;32m   1118\u001b[0m     \u001b[38;5;28;01mreturn\u001b[39;00m \u001b[38;5;28mself\u001b[39m\u001b[38;5;241m.\u001b[39m_values[key]\n\u001b[0;32m   1120\u001b[0m \u001b[38;5;28;01melif\u001b[39;00m key_is_scalar:\n\u001b[1;32m-> 1121\u001b[0m     \u001b[38;5;28;01mreturn\u001b[39;00m \u001b[38;5;28;43mself\u001b[39;49m\u001b[38;5;241;43m.\u001b[39;49m\u001b[43m_get_value\u001b[49m\u001b[43m(\u001b[49m\u001b[43mkey\u001b[49m\u001b[43m)\u001b[49m\n\u001b[0;32m   1123\u001b[0m \u001b[38;5;66;03m# Convert generator to list before going through hashable part\u001b[39;00m\n\u001b[0;32m   1124\u001b[0m \u001b[38;5;66;03m# (We will iterate through the generator there to check for slices)\u001b[39;00m\n\u001b[0;32m   1125\u001b[0m \u001b[38;5;28;01mif\u001b[39;00m is_iterator(key):\n",
      "File \u001b[1;32mc:\\Users\\hugot\\AppData\\Local\\Programs\\Python\\Python312\\Lib\\site-packages\\pandas\\core\\series.py:1237\u001b[0m, in \u001b[0;36mSeries._get_value\u001b[1;34m(self, label, takeable)\u001b[0m\n\u001b[0;32m   1234\u001b[0m     \u001b[38;5;28;01mreturn\u001b[39;00m \u001b[38;5;28mself\u001b[39m\u001b[38;5;241m.\u001b[39m_values[label]\n\u001b[0;32m   1236\u001b[0m \u001b[38;5;66;03m# Similar to Index.get_value, but we do not fall back to positional\u001b[39;00m\n\u001b[1;32m-> 1237\u001b[0m loc \u001b[38;5;241m=\u001b[39m \u001b[38;5;28;43mself\u001b[39;49m\u001b[38;5;241;43m.\u001b[39;49m\u001b[43mindex\u001b[49m\u001b[38;5;241;43m.\u001b[39;49m\u001b[43mget_loc\u001b[49m\u001b[43m(\u001b[49m\u001b[43mlabel\u001b[49m\u001b[43m)\u001b[49m\n\u001b[0;32m   1239\u001b[0m \u001b[38;5;28;01mif\u001b[39;00m is_integer(loc):\n\u001b[0;32m   1240\u001b[0m     \u001b[38;5;28;01mreturn\u001b[39;00m \u001b[38;5;28mself\u001b[39m\u001b[38;5;241m.\u001b[39m_values[loc]\n",
      "File \u001b[1;32mc:\\Users\\hugot\\AppData\\Local\\Programs\\Python\\Python312\\Lib\\site-packages\\pandas\\core\\indexes\\base.py:3812\u001b[0m, in \u001b[0;36mIndex.get_loc\u001b[1;34m(self, key)\u001b[0m\n\u001b[0;32m   3807\u001b[0m     \u001b[38;5;28;01mif\u001b[39;00m \u001b[38;5;28misinstance\u001b[39m(casted_key, \u001b[38;5;28mslice\u001b[39m) \u001b[38;5;129;01mor\u001b[39;00m (\n\u001b[0;32m   3808\u001b[0m         \u001b[38;5;28misinstance\u001b[39m(casted_key, abc\u001b[38;5;241m.\u001b[39mIterable)\n\u001b[0;32m   3809\u001b[0m         \u001b[38;5;129;01mand\u001b[39;00m \u001b[38;5;28many\u001b[39m(\u001b[38;5;28misinstance\u001b[39m(x, \u001b[38;5;28mslice\u001b[39m) \u001b[38;5;28;01mfor\u001b[39;00m x \u001b[38;5;129;01min\u001b[39;00m casted_key)\n\u001b[0;32m   3810\u001b[0m     ):\n\u001b[0;32m   3811\u001b[0m         \u001b[38;5;28;01mraise\u001b[39;00m InvalidIndexError(key)\n\u001b[1;32m-> 3812\u001b[0m     \u001b[38;5;28;01mraise\u001b[39;00m \u001b[38;5;167;01mKeyError\u001b[39;00m(key) \u001b[38;5;28;01mfrom\u001b[39;00m \u001b[38;5;21;01merr\u001b[39;00m\n\u001b[0;32m   3813\u001b[0m \u001b[38;5;28;01mexcept\u001b[39;00m \u001b[38;5;167;01mTypeError\u001b[39;00m:\n\u001b[0;32m   3814\u001b[0m     \u001b[38;5;66;03m# If we have a listlike key, _check_indexing_error will raise\u001b[39;00m\n\u001b[0;32m   3815\u001b[0m     \u001b[38;5;66;03m#  InvalidIndexError. Otherwise we fall through and re-raise\u001b[39;00m\n\u001b[0;32m   3816\u001b[0m     \u001b[38;5;66;03m#  the TypeError.\u001b[39;00m\n\u001b[0;32m   3817\u001b[0m     \u001b[38;5;28mself\u001b[39m\u001b[38;5;241m.\u001b[39m_check_indexing_error(key)\n",
      "\u001b[1;31mKeyError\u001b[0m: 'rank'"
     ]
    },
    {
     "data": {
      "text/plain": [
       "<Figure size 1000x600 with 0 Axes>"
      ]
     },
     "metadata": {},
     "output_type": "display_data"
    }
   ],
   "source": [
    "#Napišimo program, ki zbere vse šahiste, ki so bili v top k-mestih; ter naloži njihove podake v slovar\n",
    "# def podatki_top_nekaj(k):\n",
    "#     podatki_sahistov_v_top_nekaj = {}\n",
    "#     sahisti = pd.read_csv(os.path.join(starsevska_pot_plitka, 'sahisti'), index_col= 'Ime')\n",
    "#     for ime, vrstica in sahisti.iterrows():\n",
    "#         if sahist == 'Leto rojstva\\'' or sahist == 'Leto rojstva':\n",
    "#             pass\n",
    "#         else:\n",
    "#             podatki = pd.read_csv(os.path.join(starsevska_pot_globoka, ime.replace(' ', '_')))\n",
    "#             for indeks, vrstica2 in podatki.iterrows():\n",
    "#                 if vrstica2['rang'] <= 5:\n",
    "#                     podatki_sahistov_v_top_nekaj[(ime, int(vrstica['Leto rojstva']))] = podatki['rang']\n",
    "#     return podatki_sahistov_v_top_nekaj\n",
    "\n",
    "def podatki_top_nekaj(k):\n",
    "    sahisti_v_top_nekaj = set()\n",
    "    sahisti = pd.read_csv(os.path.join(starsevska_pot_plitka, 'sahisti'), index_col= 'Ime')\n",
    "    for ime, vrstica1 in sahisti.iterrows():\n",
    "        if sahist == 'Leto rojstva\\'' or sahist == 'Leto rojstva':\n",
    "            pass\n",
    "        else:\n",
    "            podatki = pd.read_csv(os.path.join(starsevska_pot_globoka, ime.replace(' ', '_')))\n",
    "            for indeks, vrstica2 in podatki.iterrows():\n",
    "                if vrstica2['rank'] <= k:\n",
    "                    sahisti_v_top_nekaj.add((ime, int(vrstica1['Leto rojstva'])))\n",
    "    return sahisti_v_top_nekaj\n",
    "\n",
    "\n",
    "#Vidimo, da je v zadnjih 24 letih 30 različnih šahistov zavzelo mesta med najboljšimi petimi.\n",
    "\n",
    "#Narišimo sedaj še diagram\n",
    "#Najprej naložimo podatke vsakega izmed šahistov:\n",
    "# data_top_5 = {}\n",
    "# for ime, leto_rojstva in podatki_top_nekaj(5):\n",
    "#     data_top_5[(ime, leto_rojstva)] = pd.read_csv(os.path.join(starsevska_pot_globoka, ime.replace(' ', '_')))\n",
    "\n",
    "#Sedaj podatke grafično predstavimo\n",
    "\n",
    "plot.figure(figsize=(10,6))\n",
    "\n",
    "for kljucni_nabor, podatki in podatki_top_nekaj(5).items():\n",
    "    #Seznam podatkov o datumih nadomestimo z seznamom podatkov starosti posameznega sahista\n",
    "    podatki_starost = [funkcije.datum_v_float(datum) - kljucni_nabor[1] for datum in podatki['datum']]\n",
    "    print(podatki_starost)\n",
    "    plot.plot(podatki_starost, podatki['rating'], label = kljucni_nabor[0])\n",
    "plot.title('Rating v odvisnosti od starosti za šahiste med top 5 preteklih 24 let')\n",
    "plot.legend(loc =  'upper left', bbox_to_anchor=(1,1))\n",
    "plot.show()"
   ]
  },
  {
   "cell_type": "markdown",
   "id": "e1251c38",
   "metadata": {},
   "source": [
    "Diagram žal ni najbolj berljiv. Kako pa se obnaša povprečje teh šahistov pri vsaki starosti?"
   ]
  },
  {
   "cell_type": "code",
   "execution_count": null,
   "id": "8a57145f",
   "metadata": {},
   "outputs": [
    {
     "ename": "KeyError",
     "evalue": "'rang'",
     "output_type": "error",
     "traceback": [
      "\u001b[1;31m---------------------------------------------------------------------------\u001b[0m",
      "\u001b[1;31mKeyError\u001b[0m                                  Traceback (most recent call last)",
      "File \u001b[1;32mc:\\Users\\hugot\\AppData\\Local\\Programs\\Python\\Python312\\Lib\\site-packages\\pandas\\core\\indexes\\base.py:3805\u001b[0m, in \u001b[0;36mIndex.get_loc\u001b[1;34m(self, key)\u001b[0m\n\u001b[0;32m   3804\u001b[0m \u001b[38;5;28;01mtry\u001b[39;00m:\n\u001b[1;32m-> 3805\u001b[0m     \u001b[38;5;28;01mreturn\u001b[39;00m \u001b[38;5;28;43mself\u001b[39;49m\u001b[38;5;241;43m.\u001b[39;49m\u001b[43m_engine\u001b[49m\u001b[38;5;241;43m.\u001b[39;49m\u001b[43mget_loc\u001b[49m\u001b[43m(\u001b[49m\u001b[43mcasted_key\u001b[49m\u001b[43m)\u001b[49m\n\u001b[0;32m   3806\u001b[0m \u001b[38;5;28;01mexcept\u001b[39;00m \u001b[38;5;167;01mKeyError\u001b[39;00m \u001b[38;5;28;01mas\u001b[39;00m err:\n",
      "File \u001b[1;32mindex.pyx:167\u001b[0m, in \u001b[0;36mpandas._libs.index.IndexEngine.get_loc\u001b[1;34m()\u001b[0m\n",
      "File \u001b[1;32mindex.pyx:196\u001b[0m, in \u001b[0;36mpandas._libs.index.IndexEngine.get_loc\u001b[1;34m()\u001b[0m\n",
      "File \u001b[1;32mpandas\\\\_libs\\\\hashtable_class_helper.pxi:7081\u001b[0m, in \u001b[0;36mpandas._libs.hashtable.PyObjectHashTable.get_item\u001b[1;34m()\u001b[0m\n",
      "File \u001b[1;32mpandas\\\\_libs\\\\hashtable_class_helper.pxi:7089\u001b[0m, in \u001b[0;36mpandas._libs.hashtable.PyObjectHashTable.get_item\u001b[1;34m()\u001b[0m\n",
      "\u001b[1;31mKeyError\u001b[0m: 'rang'",
      "\nThe above exception was the direct cause of the following exception:\n",
      "\u001b[1;31mKeyError\u001b[0m                                  Traceback (most recent call last)",
      "Cell \u001b[1;32mIn[15], line 4\u001b[0m\n\u001b[0;32m      1\u001b[0m \u001b[38;5;66;03m#Ker nimamo podatkov o ratingu vsakeka izmed šahistov v podatki_top_nekaj(5) za vsako starost, bodisi ker starosti še niso dosegli, ker pri določeni starosti niso bili med najboljšimi 100 šahisti,\u001b[39;00m\n\u001b[0;32m      2\u001b[0m \u001b[38;5;66;03m#bodisi ker so to starost dosegli pred letom 2000, bomo do podatkov o povprečju prišli na naslednji način.\u001b[39;00m\n\u001b[0;32m      3\u001b[0m povprecni_elo_pri_starosti_top_5 \u001b[38;5;241m=\u001b[39m {i: [] \u001b[38;5;28;01mfor\u001b[39;00m i \u001b[38;5;129;01min\u001b[39;00m \u001b[38;5;28mrange\u001b[39m(\u001b[38;5;241m15\u001b[39m, \u001b[38;5;241m56\u001b[39m)}\n\u001b[1;32m----> 4\u001b[0m sahisti_v_top_5 \u001b[38;5;241m=\u001b[39m \u001b[43mpodatki_top_nekaj\u001b[49m\u001b[43m(\u001b[49m\u001b[38;5;241;43m5\u001b[39;49m\u001b[43m)\u001b[49m\n\u001b[0;32m      5\u001b[0m counter \u001b[38;5;241m=\u001b[39m \u001b[38;5;241m0\u001b[39m\n\u001b[0;32m      6\u001b[0m \u001b[38;5;28;01mfor\u001b[39;00m sahist, leto_rojstva \u001b[38;5;129;01min\u001b[39;00m sahisti_v_top_5:\n",
      "Cell \u001b[1;32mIn[13], line 8\u001b[0m, in \u001b[0;36mpodatki_top_nekaj\u001b[1;34m(k)\u001b[0m\n\u001b[0;32m      6\u001b[0m     podatki \u001b[38;5;241m=\u001b[39m pd\u001b[38;5;241m.\u001b[39mread_csv(os\u001b[38;5;241m.\u001b[39mpath\u001b[38;5;241m.\u001b[39mjoin(starsevska_pot_globoka, ime\u001b[38;5;241m.\u001b[39mreplace(\u001b[38;5;124m'\u001b[39m\u001b[38;5;124m \u001b[39m\u001b[38;5;124m'\u001b[39m, \u001b[38;5;124m'\u001b[39m\u001b[38;5;124m_\u001b[39m\u001b[38;5;124m'\u001b[39m)), index_col \u001b[38;5;241m=\u001b[39m \u001b[38;5;124m'\u001b[39m\u001b[38;5;124mrang\u001b[39m\u001b[38;5;124m'\u001b[39m)\n\u001b[0;32m      7\u001b[0m     \u001b[38;5;28;01mfor\u001b[39;00m rang, vrstica2 \u001b[38;5;129;01min\u001b[39;00m podatki\u001b[38;5;241m.\u001b[39miterrows():\n\u001b[1;32m----> 8\u001b[0m         \u001b[38;5;28;01mif\u001b[39;00m \u001b[38;5;28mint\u001b[39m(\u001b[43mvrstica2\u001b[49m\u001b[43m[\u001b[49m\u001b[38;5;124;43m'\u001b[39;49m\u001b[38;5;124;43mrang\u001b[39;49m\u001b[38;5;124;43m'\u001b[39;49m\u001b[43m]\u001b[49m) \u001b[38;5;241m<\u001b[39m k\u001b[38;5;241m+\u001b[39m\u001b[38;5;241m1\u001b[39m:\n\u001b[0;32m      9\u001b[0m             podatki_sahistov_v_top_nekaj[(ime, \u001b[38;5;28mint\u001b[39m(vrstica[\u001b[38;5;124m'\u001b[39m\u001b[38;5;124mLeto rojstva\u001b[39m\u001b[38;5;124m'\u001b[39m]))] \u001b[38;5;241m=\u001b[39m podatki\n\u001b[0;32m     10\u001b[0m \u001b[38;5;28;01mreturn\u001b[39;00m podatki_sahistov_v_top_nekaj\n",
      "File \u001b[1;32mc:\\Users\\hugot\\AppData\\Local\\Programs\\Python\\Python312\\Lib\\site-packages\\pandas\\core\\series.py:1121\u001b[0m, in \u001b[0;36mSeries.__getitem__\u001b[1;34m(self, key)\u001b[0m\n\u001b[0;32m   1118\u001b[0m     \u001b[38;5;28;01mreturn\u001b[39;00m \u001b[38;5;28mself\u001b[39m\u001b[38;5;241m.\u001b[39m_values[key]\n\u001b[0;32m   1120\u001b[0m \u001b[38;5;28;01melif\u001b[39;00m key_is_scalar:\n\u001b[1;32m-> 1121\u001b[0m     \u001b[38;5;28;01mreturn\u001b[39;00m \u001b[38;5;28;43mself\u001b[39;49m\u001b[38;5;241;43m.\u001b[39;49m\u001b[43m_get_value\u001b[49m\u001b[43m(\u001b[49m\u001b[43mkey\u001b[49m\u001b[43m)\u001b[49m\n\u001b[0;32m   1123\u001b[0m \u001b[38;5;66;03m# Convert generator to list before going through hashable part\u001b[39;00m\n\u001b[0;32m   1124\u001b[0m \u001b[38;5;66;03m# (We will iterate through the generator there to check for slices)\u001b[39;00m\n\u001b[0;32m   1125\u001b[0m \u001b[38;5;28;01mif\u001b[39;00m is_iterator(key):\n",
      "File \u001b[1;32mc:\\Users\\hugot\\AppData\\Local\\Programs\\Python\\Python312\\Lib\\site-packages\\pandas\\core\\series.py:1237\u001b[0m, in \u001b[0;36mSeries._get_value\u001b[1;34m(self, label, takeable)\u001b[0m\n\u001b[0;32m   1234\u001b[0m     \u001b[38;5;28;01mreturn\u001b[39;00m \u001b[38;5;28mself\u001b[39m\u001b[38;5;241m.\u001b[39m_values[label]\n\u001b[0;32m   1236\u001b[0m \u001b[38;5;66;03m# Similar to Index.get_value, but we do not fall back to positional\u001b[39;00m\n\u001b[1;32m-> 1237\u001b[0m loc \u001b[38;5;241m=\u001b[39m \u001b[38;5;28;43mself\u001b[39;49m\u001b[38;5;241;43m.\u001b[39;49m\u001b[43mindex\u001b[49m\u001b[38;5;241;43m.\u001b[39;49m\u001b[43mget_loc\u001b[49m\u001b[43m(\u001b[49m\u001b[43mlabel\u001b[49m\u001b[43m)\u001b[49m\n\u001b[0;32m   1239\u001b[0m \u001b[38;5;28;01mif\u001b[39;00m is_integer(loc):\n\u001b[0;32m   1240\u001b[0m     \u001b[38;5;28;01mreturn\u001b[39;00m \u001b[38;5;28mself\u001b[39m\u001b[38;5;241m.\u001b[39m_values[loc]\n",
      "File \u001b[1;32mc:\\Users\\hugot\\AppData\\Local\\Programs\\Python\\Python312\\Lib\\site-packages\\pandas\\core\\indexes\\base.py:3812\u001b[0m, in \u001b[0;36mIndex.get_loc\u001b[1;34m(self, key)\u001b[0m\n\u001b[0;32m   3807\u001b[0m     \u001b[38;5;28;01mif\u001b[39;00m \u001b[38;5;28misinstance\u001b[39m(casted_key, \u001b[38;5;28mslice\u001b[39m) \u001b[38;5;129;01mor\u001b[39;00m (\n\u001b[0;32m   3808\u001b[0m         \u001b[38;5;28misinstance\u001b[39m(casted_key, abc\u001b[38;5;241m.\u001b[39mIterable)\n\u001b[0;32m   3809\u001b[0m         \u001b[38;5;129;01mand\u001b[39;00m \u001b[38;5;28many\u001b[39m(\u001b[38;5;28misinstance\u001b[39m(x, \u001b[38;5;28mslice\u001b[39m) \u001b[38;5;28;01mfor\u001b[39;00m x \u001b[38;5;129;01min\u001b[39;00m casted_key)\n\u001b[0;32m   3810\u001b[0m     ):\n\u001b[0;32m   3811\u001b[0m         \u001b[38;5;28;01mraise\u001b[39;00m InvalidIndexError(key)\n\u001b[1;32m-> 3812\u001b[0m     \u001b[38;5;28;01mraise\u001b[39;00m \u001b[38;5;167;01mKeyError\u001b[39;00m(key) \u001b[38;5;28;01mfrom\u001b[39;00m \u001b[38;5;21;01merr\u001b[39;00m\n\u001b[0;32m   3813\u001b[0m \u001b[38;5;28;01mexcept\u001b[39;00m \u001b[38;5;167;01mTypeError\u001b[39;00m:\n\u001b[0;32m   3814\u001b[0m     \u001b[38;5;66;03m# If we have a listlike key, _check_indexing_error will raise\u001b[39;00m\n\u001b[0;32m   3815\u001b[0m     \u001b[38;5;66;03m#  InvalidIndexError. Otherwise we fall through and re-raise\u001b[39;00m\n\u001b[0;32m   3816\u001b[0m     \u001b[38;5;66;03m#  the TypeError.\u001b[39;00m\n\u001b[0;32m   3817\u001b[0m     \u001b[38;5;28mself\u001b[39m\u001b[38;5;241m.\u001b[39m_check_indexing_error(key)\n",
      "\u001b[1;31mKeyError\u001b[0m: 'rang'"
     ]
    }
   ],
   "source": [
    "#Ker nimamo podatkov o ratingu vsakeka izmed šahistov v podatki_top_nekaj(5) za vsako starost, bodisi ker starosti še niso dosegli, ker pri določeni starosti niso bili med najboljšimi 100 šahisti,\n",
    "#bodisi ker so to starost dosegli pred letom 2000, bomo do podatkov o povprečju prišli na naslednji način.\n",
    "povprecni_elo_pri_starosti_top_5 = {i: [] for i in range(15, 56)}\n",
    "sahisti_v_top_5 = podatki_top_nekaj(5)\n",
    "counter = 0\n",
    "for sahist, leto_rojstva in sahisti_v_top_5:\n",
    "    sahistov_record = pd.read_csv(os.path.join(starsevska_pot_globoka, sahist.replace(' ', '_')), index_col = 'datum')\n",
    "    for datum, vrstica in sahistov_record.iterrows():\n",
    "        leto = int(datum[3::])\n",
    "        if leto - leto_rojstva >= 15 and leto - leto_rojstva <= 55:\n",
    "            povprecni_elo_pri_starosti_top_5[leto - leto_rojstva].append(vrstica['rating'])\n",
    "\n",
    "povprecje_2 = {i: [] for i in range(15, 56)}\n",
    "for starost in povprecni_elo_pri_starosti_top_5:\n",
    "    vsota = sum(povprecni_elo_pri_starosti_top_5[starost])\n",
    "    dolzina = len(povprecni_elo_pri_starosti_top_5[starost])\n",
    "    povprecje_2[starost] = round(vsota / dolzina, 2)\n",
    "\n",
    "print(povprecje_2)\n",
    "\n",
    "velikostni_ekstrem = []\n",
    "najvisji = max(list(povprecje_2.values()))\n",
    "for starost, rating_pri_starosti in povprecje_2.items():\n",
    "    if rating_pri_starosti == najvisji:\n",
    "        velikostni_ekstrem.append(starost)\n",
    "\n",
    "print(velikostni_ekstrem)\n",
    "\n",
    "\n",
    "pandas_thing = pd.Series(povprecje_2)\n",
    "\n",
    "plot.figure(figsize=(10,6))\n",
    "\n",
    "pandas_thing.plot(kind = 'line', marker = '.')\n",
    "\n",
    "plot.xlabel('Starost')\n",
    "plot.ylabel('Povprečni rating šahista, ki je dosegel top 5')\n",
    "plot.show()"
   ]
  },
  {
   "cell_type": "code",
   "execution_count": null,
   "id": "317f6c1a",
   "metadata": {},
   "outputs": [
    {
     "ename": "KeyError",
     "evalue": "'rang'",
     "output_type": "error",
     "traceback": [
      "\u001b[1;31m---------------------------------------------------------------------------\u001b[0m",
      "\u001b[1;31mKeyError\u001b[0m                                  Traceback (most recent call last)",
      "File \u001b[1;32mc:\\Users\\hugot\\AppData\\Local\\Programs\\Python\\Python312\\Lib\\site-packages\\pandas\\core\\indexes\\base.py:3805\u001b[0m, in \u001b[0;36mIndex.get_loc\u001b[1;34m(self, key)\u001b[0m\n\u001b[0;32m   3804\u001b[0m \u001b[38;5;28;01mtry\u001b[39;00m:\n\u001b[1;32m-> 3805\u001b[0m     \u001b[38;5;28;01mreturn\u001b[39;00m \u001b[38;5;28;43mself\u001b[39;49m\u001b[38;5;241;43m.\u001b[39;49m\u001b[43m_engine\u001b[49m\u001b[38;5;241;43m.\u001b[39;49m\u001b[43mget_loc\u001b[49m\u001b[43m(\u001b[49m\u001b[43mcasted_key\u001b[49m\u001b[43m)\u001b[49m\n\u001b[0;32m   3806\u001b[0m \u001b[38;5;28;01mexcept\u001b[39;00m \u001b[38;5;167;01mKeyError\u001b[39;00m \u001b[38;5;28;01mas\u001b[39;00m err:\n",
      "File \u001b[1;32mindex.pyx:167\u001b[0m, in \u001b[0;36mpandas._libs.index.IndexEngine.get_loc\u001b[1;34m()\u001b[0m\n",
      "File \u001b[1;32mindex.pyx:196\u001b[0m, in \u001b[0;36mpandas._libs.index.IndexEngine.get_loc\u001b[1;34m()\u001b[0m\n",
      "File \u001b[1;32mpandas\\\\_libs\\\\hashtable_class_helper.pxi:7081\u001b[0m, in \u001b[0;36mpandas._libs.hashtable.PyObjectHashTable.get_item\u001b[1;34m()\u001b[0m\n",
      "File \u001b[1;32mpandas\\\\_libs\\\\hashtable_class_helper.pxi:7089\u001b[0m, in \u001b[0;36mpandas._libs.hashtable.PyObjectHashTable.get_item\u001b[1;34m()\u001b[0m\n",
      "\u001b[1;31mKeyError\u001b[0m: 'rang'",
      "\nThe above exception was the direct cause of the following exception:\n",
      "\u001b[1;31mKeyError\u001b[0m                                  Traceback (most recent call last)",
      "Cell \u001b[1;32mIn[14], line 4\u001b[0m\n\u001b[0;32m      1\u001b[0m \u001b[38;5;66;03m#Ker nimamo podatkov o ratingu vsakeka izmed šahistov v podatki_top_nekaj(5) za vsako starost, bodisi ker starosti še niso dosegli, ker pri določeni starosti niso bili med najboljšimi 100 šahisti,\u001b[39;00m\n\u001b[0;32m      2\u001b[0m \u001b[38;5;66;03m#bodisi ker so to starost dosegli pred letom 2000, bomo do podatkov o povprečju prišli na naslednji način.\u001b[39;00m\n\u001b[0;32m      3\u001b[0m povprecni_elo_pri_starosti_top_5 \u001b[38;5;241m=\u001b[39m {i: [] \u001b[38;5;28;01mfor\u001b[39;00m i \u001b[38;5;129;01min\u001b[39;00m \u001b[38;5;28mrange\u001b[39m(\u001b[38;5;241m15\u001b[39m, \u001b[38;5;241m56\u001b[39m)}\n\u001b[1;32m----> 4\u001b[0m sahisti_v_top_5 \u001b[38;5;241m=\u001b[39m \u001b[43mpodatki_top_nekaj\u001b[49m\u001b[43m(\u001b[49m\u001b[38;5;241;43m100\u001b[39;49m\u001b[43m)\u001b[49m\n\u001b[0;32m      5\u001b[0m counter \u001b[38;5;241m=\u001b[39m \u001b[38;5;241m0\u001b[39m\n\u001b[0;32m      6\u001b[0m \u001b[38;5;28;01mfor\u001b[39;00m sahist, leto_rojstva \u001b[38;5;129;01min\u001b[39;00m sahisti_v_top_5:\n",
      "Cell \u001b[1;32mIn[13], line 8\u001b[0m, in \u001b[0;36mpodatki_top_nekaj\u001b[1;34m(k)\u001b[0m\n\u001b[0;32m      6\u001b[0m     podatki \u001b[38;5;241m=\u001b[39m pd\u001b[38;5;241m.\u001b[39mread_csv(os\u001b[38;5;241m.\u001b[39mpath\u001b[38;5;241m.\u001b[39mjoin(starsevska_pot_globoka, ime\u001b[38;5;241m.\u001b[39mreplace(\u001b[38;5;124m'\u001b[39m\u001b[38;5;124m \u001b[39m\u001b[38;5;124m'\u001b[39m, \u001b[38;5;124m'\u001b[39m\u001b[38;5;124m_\u001b[39m\u001b[38;5;124m'\u001b[39m)), index_col \u001b[38;5;241m=\u001b[39m \u001b[38;5;124m'\u001b[39m\u001b[38;5;124mrang\u001b[39m\u001b[38;5;124m'\u001b[39m)\n\u001b[0;32m      7\u001b[0m     \u001b[38;5;28;01mfor\u001b[39;00m rang, vrstica2 \u001b[38;5;129;01min\u001b[39;00m podatki\u001b[38;5;241m.\u001b[39miterrows():\n\u001b[1;32m----> 8\u001b[0m         \u001b[38;5;28;01mif\u001b[39;00m \u001b[38;5;28mint\u001b[39m(\u001b[43mvrstica2\u001b[49m\u001b[43m[\u001b[49m\u001b[38;5;124;43m'\u001b[39;49m\u001b[38;5;124;43mrang\u001b[39;49m\u001b[38;5;124;43m'\u001b[39;49m\u001b[43m]\u001b[49m) \u001b[38;5;241m<\u001b[39m k\u001b[38;5;241m+\u001b[39m\u001b[38;5;241m1\u001b[39m:\n\u001b[0;32m      9\u001b[0m             podatki_sahistov_v_top_nekaj[(ime, \u001b[38;5;28mint\u001b[39m(vrstica[\u001b[38;5;124m'\u001b[39m\u001b[38;5;124mLeto rojstva\u001b[39m\u001b[38;5;124m'\u001b[39m]))] \u001b[38;5;241m=\u001b[39m podatki\n\u001b[0;32m     10\u001b[0m \u001b[38;5;28;01mreturn\u001b[39;00m podatki_sahistov_v_top_nekaj\n",
      "File \u001b[1;32mc:\\Users\\hugot\\AppData\\Local\\Programs\\Python\\Python312\\Lib\\site-packages\\pandas\\core\\series.py:1121\u001b[0m, in \u001b[0;36mSeries.__getitem__\u001b[1;34m(self, key)\u001b[0m\n\u001b[0;32m   1118\u001b[0m     \u001b[38;5;28;01mreturn\u001b[39;00m \u001b[38;5;28mself\u001b[39m\u001b[38;5;241m.\u001b[39m_values[key]\n\u001b[0;32m   1120\u001b[0m \u001b[38;5;28;01melif\u001b[39;00m key_is_scalar:\n\u001b[1;32m-> 1121\u001b[0m     \u001b[38;5;28;01mreturn\u001b[39;00m \u001b[38;5;28;43mself\u001b[39;49m\u001b[38;5;241;43m.\u001b[39;49m\u001b[43m_get_value\u001b[49m\u001b[43m(\u001b[49m\u001b[43mkey\u001b[49m\u001b[43m)\u001b[49m\n\u001b[0;32m   1123\u001b[0m \u001b[38;5;66;03m# Convert generator to list before going through hashable part\u001b[39;00m\n\u001b[0;32m   1124\u001b[0m \u001b[38;5;66;03m# (We will iterate through the generator there to check for slices)\u001b[39;00m\n\u001b[0;32m   1125\u001b[0m \u001b[38;5;28;01mif\u001b[39;00m is_iterator(key):\n",
      "File \u001b[1;32mc:\\Users\\hugot\\AppData\\Local\\Programs\\Python\\Python312\\Lib\\site-packages\\pandas\\core\\series.py:1237\u001b[0m, in \u001b[0;36mSeries._get_value\u001b[1;34m(self, label, takeable)\u001b[0m\n\u001b[0;32m   1234\u001b[0m     \u001b[38;5;28;01mreturn\u001b[39;00m \u001b[38;5;28mself\u001b[39m\u001b[38;5;241m.\u001b[39m_values[label]\n\u001b[0;32m   1236\u001b[0m \u001b[38;5;66;03m# Similar to Index.get_value, but we do not fall back to positional\u001b[39;00m\n\u001b[1;32m-> 1237\u001b[0m loc \u001b[38;5;241m=\u001b[39m \u001b[38;5;28;43mself\u001b[39;49m\u001b[38;5;241;43m.\u001b[39;49m\u001b[43mindex\u001b[49m\u001b[38;5;241;43m.\u001b[39;49m\u001b[43mget_loc\u001b[49m\u001b[43m(\u001b[49m\u001b[43mlabel\u001b[49m\u001b[43m)\u001b[49m\n\u001b[0;32m   1239\u001b[0m \u001b[38;5;28;01mif\u001b[39;00m is_integer(loc):\n\u001b[0;32m   1240\u001b[0m     \u001b[38;5;28;01mreturn\u001b[39;00m \u001b[38;5;28mself\u001b[39m\u001b[38;5;241m.\u001b[39m_values[loc]\n",
      "File \u001b[1;32mc:\\Users\\hugot\\AppData\\Local\\Programs\\Python\\Python312\\Lib\\site-packages\\pandas\\core\\indexes\\base.py:3812\u001b[0m, in \u001b[0;36mIndex.get_loc\u001b[1;34m(self, key)\u001b[0m\n\u001b[0;32m   3807\u001b[0m     \u001b[38;5;28;01mif\u001b[39;00m \u001b[38;5;28misinstance\u001b[39m(casted_key, \u001b[38;5;28mslice\u001b[39m) \u001b[38;5;129;01mor\u001b[39;00m (\n\u001b[0;32m   3808\u001b[0m         \u001b[38;5;28misinstance\u001b[39m(casted_key, abc\u001b[38;5;241m.\u001b[39mIterable)\n\u001b[0;32m   3809\u001b[0m         \u001b[38;5;129;01mand\u001b[39;00m \u001b[38;5;28many\u001b[39m(\u001b[38;5;28misinstance\u001b[39m(x, \u001b[38;5;28mslice\u001b[39m) \u001b[38;5;28;01mfor\u001b[39;00m x \u001b[38;5;129;01min\u001b[39;00m casted_key)\n\u001b[0;32m   3810\u001b[0m     ):\n\u001b[0;32m   3811\u001b[0m         \u001b[38;5;28;01mraise\u001b[39;00m InvalidIndexError(key)\n\u001b[1;32m-> 3812\u001b[0m     \u001b[38;5;28;01mraise\u001b[39;00m \u001b[38;5;167;01mKeyError\u001b[39;00m(key) \u001b[38;5;28;01mfrom\u001b[39;00m \u001b[38;5;21;01merr\u001b[39;00m\n\u001b[0;32m   3813\u001b[0m \u001b[38;5;28;01mexcept\u001b[39;00m \u001b[38;5;167;01mTypeError\u001b[39;00m:\n\u001b[0;32m   3814\u001b[0m     \u001b[38;5;66;03m# If we have a listlike key, _check_indexing_error will raise\u001b[39;00m\n\u001b[0;32m   3815\u001b[0m     \u001b[38;5;66;03m#  InvalidIndexError. Otherwise we fall through and re-raise\u001b[39;00m\n\u001b[0;32m   3816\u001b[0m     \u001b[38;5;66;03m#  the TypeError.\u001b[39;00m\n\u001b[0;32m   3817\u001b[0m     \u001b[38;5;28mself\u001b[39m\u001b[38;5;241m.\u001b[39m_check_indexing_error(key)\n",
      "\u001b[1;31mKeyError\u001b[0m: 'rang'"
     ]
    }
   ],
   "source": [
    "#Ker nimamo podatkov o ratingu vsakeka izmed šahistov v podatki_top_nekaj(5) za vsako starost, bodisi ker starosti še niso dosegli, ker pri določeni starosti niso bili med najboljšimi 100 šahisti,\n",
    "#bodisi ker so to starost dosegli pred letom 2000, bomo do podatkov o povprečju prišli na naslednji način.\n",
    "povprecni_elo_pri_starosti_top_5 = {i: [] for i in range(15, 56)}\n",
    "sahisti_v_top_5 = podatki_top_nekaj(100)\n",
    "counter = 0\n",
    "for sahist, leto_rojstva in sahisti_v_top_5:\n",
    "    sahistov_record = pd.read_csv(os.path.join(starsevska_pot_globoka, sahist.replace(' ', '_')), index_col = 'datum')\n",
    "    for datum, vrstica in sahistov_record.iterrows():\n",
    "        leto = int(datum[3::])\n",
    "        if leto - leto_rojstva >= 15 and leto - leto_rojstva <= 55:\n",
    "            povprecni_elo_pri_starosti_top_5[leto - leto_rojstva].append(vrstica['rating'])\n",
    "\n",
    "povprecje_2 = {i: [] for i in range(15, 56)}\n",
    "for starost in povprecni_elo_pri_starosti_top_5:\n",
    "    vsota = sum(povprecni_elo_pri_starosti_top_5[starost])\n",
    "    dolzina = len(povprecni_elo_pri_starosti_top_5[starost])\n",
    "    povprecje_2[starost] = round(vsota / dolzina, 2)\n",
    "\n",
    "print(povprecje_2)\n",
    "\n",
    "velikostni_ekstrem = []\n",
    "najvisji = max(list(povprecje_2.values()))\n",
    "for starost, rating_pri_starosti in povprecje_2.items():\n",
    "    if rating_pri_starosti == najvisji:\n",
    "        velikostni_ekstrem.append(starost)\n",
    "\n",
    "print(velikostni_ekstrem)\n",
    "\n",
    "\n",
    "pandas_thing = pd.Series(povprecje_2)\n",
    "\n",
    "plot.figure(figsize=(10,6))\n",
    "\n",
    "pandas_thing.plot(kind = 'line', marker = '.')\n",
    "\n",
    "plot.xlabel('Starost')\n",
    "plot.ylabel('Povprečni rating šahista, ki je dosegel top 5')\n",
    "plot.show()"
   ]
  },
  {
   "cell_type": "markdown",
   "id": "511f8ecc",
   "metadata": {},
   "source": [
    "Opazimo podoben trend, kot smo ga videli pri\n",
    "\n",
    "Kaj pa za k=1 ?"
   ]
  },
  {
   "cell_type": "code",
   "execution_count": null,
   "id": "7b23e0c3",
   "metadata": {},
   "outputs": [],
   "source": [
    "data_top_1 = {}\n",
    "for ime, leto_rojstva in podatki_top_nekaj(1):\n",
    "    data_top_1[(ime, leto_rojstva)] = pd.read_csv(os.path.join(starsevska_pot_globoka, ime.replace(' ', '_')))\n",
    "\n",
    "plot.figure(figsize=(10,6))\n",
    "\n",
    "for kljucni_nabor, podatki in data_top_1.items():\n",
    "    plot.plot(list(map(lambda x: datum_to_age_float(x, kljucni_nabor[1]), podatki['datum'])), podatki['rating'], label = kljucni_nabor[0])\n",
    "\n",
    "plot.title('Rating v odvisnosti od starosti za najboljše šahiste preteklih 24 let')\n",
    "plot.legend()\n",
    "plot.show()"
   ]
  }
 ],
 "metadata": {
  "kernelspec": {
   "display_name": "Python 3 (ipykernel)",
   "language": "python",
   "name": "python3"
  },
  "language_info": {
   "codemirror_mode": {
    "name": "ipython",
    "version": 3
   },
   "file_extension": ".py",
   "mimetype": "text/x-python",
   "name": "python",
   "nbconvert_exporter": "python",
   "pygments_lexer": "ipython3",
   "version": "3.12.5"
  }
 },
 "nbformat": 4,
 "nbformat_minor": 5
}
